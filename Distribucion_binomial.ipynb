{
  "nbformat": 4,
  "nbformat_minor": 0,
  "metadata": {
    "colab": {
      "name": "Distribucion_binomial.ipynb",
      "provenance": [],
      "authorship_tag": "ABX9TyP2gYVLJUQmwjXPYRsXbX9B",
      "include_colab_link": true
    },
    "kernelspec": {
      "name": "python3",
      "display_name": "Python 3"
    }
  },
  "cells": [
    {
      "cell_type": "markdown",
      "metadata": {
        "id": "view-in-github",
        "colab_type": "text"
      },
      "source": [
        "<a href=\"https://colab.research.google.com/github/imazzala/matematicas-para-data-science-probabilidad/blob/main/Distribucion_binomial.ipynb\" target=\"_parent\"><img src=\"https://colab.research.google.com/assets/colab-badge.svg\" alt=\"Open In Colab\"/></a>"
      ]
    },
    {
      "cell_type": "code",
      "metadata": {
        "id": "JkimsztVjmiw"
      },
      "source": [
        "import numpy as np\n",
        "from numpy.random import binomial\n",
        "from scipy.stats import binom\n",
        "from math import factorial\n",
        "import matplotlib.pyplot as plt"
      ],
      "execution_count": null,
      "outputs": []
    },
    {
      "cell_type": "markdown",
      "metadata": {
        "id": "riq4-IAMkRJ7"
      },
      "source": [
        "## Secuencias de eventos tipo Bernoulli\n",
        "\n",
        "$$\n",
        "P(k, n; p) = {n \\choose k} p^k (1-p)^{n-k} = \\frac{n!}{k!(n-k)!}p^k (1-p)^{n-k}\n",
        "$$"
      ]
    },
    {
      "cell_type": "code",
      "metadata": {
        "id": "PT5tyfLFkUJT"
      },
      "source": [
        "def my_binomial(k, n, p):\n",
        "  return (factorial(n) / factorial(k)* factorial(n - k)) * pow(p, k) * pow(1-p, n - k)"
      ],
      "execution_count": null,
      "outputs": []
    },
    {
      "cell_type": "code",
      "metadata": {
        "colab": {
          "base_uri": "https://localhost:8080/"
        },
        "id": "_i4G1_uAluZE",
        "outputId": "02ae2154-ad9e-4199-eb27-7a4292ab1963"
      },
      "source": [
        "my_binomial(2, 3, 0.5)"
      ],
      "execution_count": null,
      "outputs": [
        {
          "output_type": "execute_result",
          "data": {
            "text/plain": [
              "0.375"
            ]
          },
          "metadata": {
            "tags": []
          },
          "execution_count": 6
        }
      ]
    },
    {
      "cell_type": "markdown",
      "metadata": {
        "id": "vLR_7hIYmOig"
      },
      "source": [
        "###### Alternativa utilizando la función binom que importamos\n"
      ]
    },
    {
      "cell_type": "code",
      "metadata": {
        "colab": {
          "base_uri": "https://localhost:8080/"
        },
        "id": "pyOfOC5-mZYx",
        "outputId": "e8d9afd2-4c82-4a8b-8ce1-f98482af563b"
      },
      "source": [
        "dist = binom(3, 0.5)\n",
        "dist.pmf(2)"
      ],
      "execution_count": null,
      "outputs": [
        {
          "output_type": "execute_result",
          "data": {
            "text/plain": [
              "0.375"
            ]
          },
          "metadata": {
            "tags": []
          },
          "execution_count": 8
        }
      ]
    },
    {
      "cell_type": "code",
      "metadata": {
        "colab": {
          "base_uri": "https://localhost:8080/"
        },
        "id": "TaAUn1X5mnh9",
        "outputId": "0998a087-a5b3-4a6c-fb94-4abd553a2699"
      },
      "source": [
        "  dist.cdf(2)\n",
        "  "
      ],
      "execution_count": null,
      "outputs": [
        {
          "output_type": "execute_result",
          "data": {
            "text/plain": [
              "0.875"
            ]
          },
          "metadata": {
            "tags": []
          },
          "execution_count": 9
        }
      ]
    },
    {
      "cell_type": "markdown",
      "metadata": {
        "id": "twYgWZJc89g4"
      },
      "source": [
        "### Sumulaciones de secuencias con generadores aleatorios ###\n",
        "\n",
        "- Los generadores Aleatorios tienen como propósito simular muetras de datos que resultarían de muestreos en la vida real de procesos aleatorios, como tirar una moneda o un dado. \n",
        "\n"
      ]
    },
    {
      "cell_type": "code",
      "metadata": {
        "colab": {
          "base_uri": "https://localhost:8080/"
        },
        "id": "XqS8InQs9k1k",
        "outputId": "109e131a-355d-4e8f-e391-555a4276d2f3"
      },
      "source": [
        "#Simulación de lanzar una moneda 100 veces\n",
        "#Ejecutar la celda varias veces para observar la variación de los resultados\n",
        "\n",
        "p = 0.5\n",
        "n = 3\n",
        "binomial(n, p)"
      ],
      "execution_count": null,
      "outputs": [
        {
          "output_type": "execute_result",
          "data": {
            "text/plain": [
              "1"
            ]
          },
          "metadata": {
            "tags": []
          },
          "execution_count": 15
        }
      ]
    },
    {
      "cell_type": "code",
      "metadata": {
        "id": "Q77L1Uhr-iMW"
      },
      "source": [
        "arr = []\n",
        "\n",
        "for _ in range(100):\n",
        "  arr.append(binomial(n, p))\n",
        "  "
      ],
      "execution_count": null,
      "outputs": []
    },
    {
      "cell_type": "code",
      "metadata": {
        "id": "SM4-2lJT-8ek"
      },
      "source": [
        "def plot_hist(num_trials):\n",
        "  values = [0, 1, 2, 3]\n",
        "  arr = []\n",
        "  for _ in range(100):\n",
        "    arr.append(binomial(n, p))\n",
        "  sim = np.unique(arr, return_counts = True)[1] / len(arr)\n",
        "  teorica = [binom(3, 0.5).pmf(k) for k in values]\n",
        "  plt.bar(values, sim, color = 'red')\n",
        "  plt.bar(values, teorica, alpha = 0.5, color = 'blue')\n",
        "  plt.title('{} experimentos'.format(num_trials))\n",
        "  plt.show()"
      ],
      "execution_count": null,
      "outputs": []
    },
    {
      "cell_type": "code",
      "metadata": {
        "colab": {
          "base_uri": "https://localhost:8080/",
          "height": 281
        },
        "id": "_Cre6dcsAbQY",
        "outputId": "9664b467-a107-478d-91f5-47a61c64f313"
      },
      "source": [
        "plot_hist(20)"
      ],
      "execution_count": null,
      "outputs": [
        {
          "output_type": "display_data",
          "data": {
            "image/png": "[encoded data removed]",
            "text/plain": [
              "<Figure size 432x288 with 1 Axes>"
            ]
          },
          "metadata": {
            "tags": [],
            "needs_background": "light"
          }
        }
      ]
    },
    {
      "cell_type": "code",
      "metadata": {
        "colab": {
          "base_uri": "https://localhost:8080/",
          "height": 281
        },
        "id": "dpIWlZyyAfeK",
        "outputId": "34bb50f2-653d-4024-966c-1321701bd0dd"
      },
      "source": [
        "plot_hist(2000000)"
      ],
      "execution_count": null,
      "outputs": [
        {
          "output_type": "display_data",
          "data": {
            "image/png": "[encoded data removed]",
            "text/plain": [
              "<Figure size 432x288 with 1 Axes>"
            ]
          },
          "metadata": {
            "tags": [],
            "needs_background": "light"
          }
        }
      ]
    },
    {
      "cell_type": "code",
      "metadata": {
        "id": "R4dd5aoUAyOG"
      },
      "source": [
        ""
      ],
      "execution_count": null,
      "outputs": []
    }
  ]
}