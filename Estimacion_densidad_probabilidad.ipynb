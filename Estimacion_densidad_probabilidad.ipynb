{
  "nbformat": 4,
  "nbformat_minor": 0,
  "metadata": {
    "colab": {
      "name": "Estimacion densidad probabilidad.ipynb",
      "provenance": [],
      "collapsed_sections": [],
      "authorship_tag": "ABX9TyP+TBSQSHy0xN1yAyotOh6v",
      "include_colab_link": true
    },
    "kernelspec": {
      "name": "python3",
      "display_name": "Python 3"
    }
  },
  "cells": [
    {
      "cell_type": "markdown",
      "metadata": {
        "id": "view-in-github",
        "colab_type": "text"
      },
      "source": [
        "<a href=\"https://colab.research.google.com/github/imazzala/matematicas-para-data-science-probabilidad/blob/main/Estimacion_densidad_probabilidad.ipynb\" target=\"_parent\"><img src=\"https://colab.research.google.com/assets/colab-badge.svg\" alt=\"Open In Colab\"/></a>"
      ]
    },
    {
      "cell_type": "code",
      "metadata": {
        "id": "JlJhwiEwOkQo"
      },
      "source": [
        "import numpy as np\n",
        "from matplotlib import pyplot\n",
        "from numpy.random import normal\n",
        "from scipy.stats import norm"
      ],
      "execution_count": null,
      "outputs": []
    },
    {
      "cell_type": "markdown",
      "metadata": {
        "id": "lKj7vNELO2gl"
      },
      "source": [
        "Estimación Paramétrica\n"
      ]
    },
    {
      "cell_type": "code",
      "metadata": {
        "colab": {
          "base_uri": "https://localhost:8080/",
          "height": 265
        },
        "id": "DyknWDIWO7id",
        "outputId": "ebf21f22-65ca-499e-da65-da4d64382da9"
      },
      "source": [
        "#simulamos uno conjunto de datos con el objetivo de simular un conjunto de mediciones\n",
        "#generador de datos basado en dist normal mu = 50, sigma = 5\n",
        "sample = normal(loc = 50, scale = 5, size = 1000)\n",
        "\n",
        "#Ajustamos una Distribución la cual suponemos normal, en función de los datos simulados\n",
        "#Se calcula la media y el desvío estandard de los datos\n",
        "mu = sample.mean()\n",
        "sigma = sample.std()\n",
        "\n",
        "#Se crea una instancia de una función de distribución normal con media mu y desvío sigma\n",
        "dist = norm(mu, sigma)\n",
        "\n",
        "#Se generan una serie de valores que se encuentra en el rango de los datos\n",
        "values = [value for value in range(30,70)]\n",
        "#Calculo las probabilidades de cada uno de los valores a través del objeto dist creado\n",
        "probabilidades = [dist.pdf(value) for value in values]\n",
        "\n",
        "pyplot.hist(sample, bins=30, density=True)\n",
        "pyplot.plot(values, probabilities)\n",
        "pyplot.show()"
      ],
      "execution_count": null,
      "outputs": [
        {
          "output_type": "display_data",
          "data": {
            "image/png": "[encoded data removed]",
            "text/plain": [
              "<Figure size 432x288 with 1 Axes>"
            ]
          },
          "metadata": {
            "tags": [],
            "needs_background": "light"
          }
        }
      ]
    },
    {
      "cell_type": "markdown",
      "metadata": {
        "id": "zem5wRn6S1xJ"
      },
      "source": [
        "Estimación No Paramétrica"
      ]
    },
    {
      "cell_type": "code",
      "metadata": {
        "id": "eG1Cl_3_S5rd"
      },
      "source": [
        "#Contrucción de una función Bimodal\n",
        "#KernelDensity es el método que se usa para estimar\n",
        "from numpy import hstack\n",
        "from sklearn.neighbors import KernelDensity\n",
        "\n",
        "sample1 = normal(loc = 20, scale = 5, size = 300)\n",
        "sample2 = normal(loc = 40, scale = 5, size = 700)\n",
        "sample = hstack((sample1, sample2))"
      ],
      "execution_count": null,
      "outputs": []
    },
    {
      "cell_type": "code",
      "metadata": {
        "colab": {
          "base_uri": "https://localhost:8080/"
        },
        "id": "IkX-03vMg1zZ",
        "outputId": "25b98809-666c-4982-e4b9-2e50dec0f39f"
      },
      "source": [
        "#Aplicación del Ajuste a la distribución, bandwidth es el suavizado\n",
        "model = KernelDensity(bandwidth = 2, kernel = 'gaussian')\n",
        "sample = sample.reshape((len(sample), 1))\n",
        "model.fit(sample)"
      ],
      "execution_count": null,
      "outputs": [
        {
          "output_type": "execute_result",
          "data": {
            "text/plain": [
              "KernelDensity(algorithm='auto', atol=0, bandwidth=2, breadth_first=True,\n",
              "              kernel='gaussian', leaf_size=40, metric='euclidean',\n",
              "              metric_params=None, rtol=0)"
            ]
          },
          "metadata": {
            "tags": []
          },
          "execution_count": 17
        }
      ]
    },
    {
      "cell_type": "code",
      "metadata": {
        "id": "-P4kw1QKhR2A"
      },
      "source": [
        "values = np.asarray([value for value in range(1, 60)])\n",
        "values = values.reshape((len(values), 1))\n",
        "probabilities = model.score_samples(values) #probabilidad logarítmica para facilitar los calculos\n",
        "probabilities = np.exp(probabilities)  # inversión de probabilidad obtenemos el valor original"
      ],
      "execution_count": null,
      "outputs": []
    },
    {
      "cell_type": "code",
      "metadata": {
        "colab": {
          "base_uri": "https://localhost:8080/",
          "height": 265
        },
        "id": "h4zcokLDhoug",
        "outputId": "bfbc6e1a-a896-4050-ec35-999a7d325c3a"
      },
      "source": [
        "pyplot.hist(sample, bins=50, density=True) \n",
        "pyplot.plot(values[:], probabilities)\n",
        "pyplot.show()"
      ],
      "execution_count": null,
      "outputs": [
        {
          "output_type": "display_data",
          "data": {
            "image/png": "[encoded data removed]",
            "text/plain": [
              "<Figure size 432x288 with 1 Axes>"
            ]
          },
          "metadata": {
            "tags": [],
            "needs_background": "light"
          }
        }
      ]
    },
    {
      "cell_type": "code",
      "metadata": {
        "id": "7en3QGuIhxux"
      },
      "source": [
        ""
      ],
      "execution_count": null,
      "outputs": []
    }
  ]
}